{
 "cells": [
  {
   "cell_type": "code",
   "execution_count": 1,
   "metadata": {},
   "outputs": [],
   "source": [
    "import os, time\n",
    "import pandas as pd"
   ]
  },
  {
   "cell_type": "code",
   "execution_count": 2,
   "metadata": {},
   "outputs": [],
   "source": [
    "import urllib.error\n",
    "import urllib.request\n",
    "\n",
    "def download_image(url, dst_path):\n",
    "    try:\n",
    "        data = urllib.request.urlopen(url).read()\n",
    "        with open(dst_path, mode=\"wb\") as f:\n",
    "            f.write(data)\n",
    "    except urllib.error.URLError as e:\n",
    "        print(e)"
   ]
  },
  {
   "cell_type": "code",
   "execution_count": null,
   "metadata": {},
   "outputs": [],
   "source": []
  },
  {
   "cell_type": "code",
   "execution_count": 3,
   "metadata": {},
   "outputs": [],
   "source": [
    "from quilt.data.haradai1262 import YouTuber"
   ]
  },
  {
   "cell_type": "code",
   "execution_count": 4,
   "metadata": {},
   "outputs": [],
   "source": [
    "df = YouTuber.channel_videos.UUUM_videos()"
   ]
  },
  {
   "cell_type": "code",
   "execution_count": 5,
   "metadata": {},
   "outputs": [],
   "source": [
    "# df = pd.read_csv( 'saved/test.csv', index_col=0 )"
   ]
  },
  {
   "cell_type": "code",
   "execution_count": 5,
   "metadata": {},
   "outputs": [],
   "source": [
    "thumb_list = df.loc[:,['id','cid','thumbnails']].values"
   ]
  },
  {
   "cell_type": "code",
   "execution_count": 6,
   "metadata": {},
   "outputs": [
    {
     "data": {
      "text/plain": [
       "array([['R7V5d94XkGQ', 'UCZf__ehlCEBPop___sldpBUQ',\n",
       "        'https://i.ytimg.com/vi/R7V5d94XkGQ/default.jpg'],\n",
       "       ['2R9_bkcWNd4', 'UCZf__ehlCEBPop___sldpBUQ',\n",
       "        'https://i.ytimg.com/vi/2R9_bkcWNd4/default.jpg'],\n",
       "       ['EU8S-zxS9PI', 'UCZf__ehlCEBPop___sldpBUQ',\n",
       "        'https://i.ytimg.com/vi/EU8S-zxS9PI/default.jpg'],\n",
       "       ..., \n",
       "       ['52Jb7nFq0Fc', 'UCHV8lZJsXdW8lOFr2z8WPcg',\n",
       "        'https://i.ytimg.com/vi/52Jb7nFq0Fc/default.jpg'],\n",
       "       ['jF6y3KfwX1k', 'UCHV8lZJsXdW8lOFr2z8WPcg',\n",
       "        'https://i.ytimg.com/vi/jF6y3KfwX1k/default.jpg'],\n",
       "       ['FQRFHsYfV8s', 'UCHV8lZJsXdW8lOFr2z8WPcg',\n",
       "        'https://i.ytimg.com/vi/FQRFHsYfV8s/default.jpg']], dtype=object)"
      ]
     },
     "execution_count": 6,
     "metadata": {},
     "output_type": "execute_result"
    }
   ],
   "source": [
    "thumb_list"
   ]
  },
  {
   "cell_type": "code",
   "execution_count": 7,
   "metadata": {},
   "outputs": [
    {
     "name": "stdout",
     "output_type": "stream",
     "text": [
      "mkdir saved/thumbnails/UCZf__ehlCEBPop___sldpBUQ\n",
      "mkdir saved/thumbnails/UCgMPP6RRjktV7krOfyUewqw\n",
      "mkdir saved/thumbnails/UCg4nOl7_gtStrLwF0_xoV0A\n",
      "mkdir saved/thumbnails/UCFBjsYvwX7kWUjQoW7GcJ5A\n",
      "mkdir saved/thumbnails/UCzWygEC8zQKYpCp7nwX_M__A\n",
      "mkdir saved/thumbnails/UCCUd6vfPvpPHBWZ6XwXAlRQ\n",
      "mkdir saved/thumbnails/UCFTVNLC7ysej__sD5lkLqNGA\n",
      "mkdir saved/thumbnails/UCVPz_nauEJpqPxxvYiOpCHQ\n",
      "mkdir saved/thumbnails/UC6YD__hqIJ1UIOcVyQ07HGAw\n",
      "HTTP Error 404: Not Found\n",
      "mkdir saved/thumbnails/UC6wKgAlOeFNqmXV167KERhQ\n",
      "mkdir saved/thumbnails/UCHPARXha7xQNbfzwzY7NzUw\n",
      "mkdir saved/thumbnails/UC26ZU__55UPc7lVR9inHWayA\n",
      "mkdir saved/thumbnails/UCibEhpu5HP45__w7Bq1ZIulw\n",
      "mkdir saved/thumbnails/UCpOjLndjOqMoffA__fr8cbKA\n",
      "mkdir saved/thumbnails/UCosy7jwSdXUbLbJBYgyRcnw\n",
      "mkdir saved/thumbnails/UCT0x6RQTeoZByaYt_k1Ranw\n",
      "mkdir saved/thumbnails/UCCJel9mmTsxDU9RiCwdiLiA\n",
      "mkdir saved/thumbnails/UCyo6aLuDHbUoNTv__NR__Y0NA\n",
      "mkdir saved/thumbnails/UCx4a3z5KXGZvfvnM5P5Bj8w\n",
      "mkdir saved/thumbnails/UC4QadOSsJu54Qs8z99shRiQ\n",
      "mkdir saved/thumbnails/UC4lZ8vGPy8bwmKILb__YlhzQ\n",
      "mkdir saved/thumbnails/UC02K__De6oOKX0fQeqIKID3Q\n",
      "mkdir saved/thumbnails/UCFs__PaPhAlUQ2qUG8gHf_zA\n",
      "mkdir saved/thumbnails/UCJ98lzh2QJGp37QgWPUcwrQ\n",
      "mkdir saved/thumbnails/UC1MwWJ2mFWp51xy9yzyhTlg\n",
      "mkdir saved/thumbnails/UCM5R7AjTi7irA9fXorxRTRg\n",
      "mkdir saved/thumbnails/UCPLIqdTO6Ze8k8y5oDqslzg\n",
      "mkdir saved/thumbnails/UCzKa8fRPoCbKh8O9yW2JK2g\n",
      "HTTP Error 404: Not Found\n",
      "HTTP Error 404: Not Found\n",
      "HTTP Error 404: Not Found\n",
      "HTTP Error 404: Not Found\n",
      "HTTP Error 404: Not Found\n",
      "HTTP Error 404: Not Found\n",
      "HTTP Error 404: Not Found\n",
      "HTTP Error 404: Not Found\n",
      "HTTP Error 404: Not Found\n",
      "mkdir saved/thumbnails/UCoG2iDwh5Vw61kZx0kWL0WA\n",
      "mkdir saved/thumbnails/UCMsuwHzQPFMDtHaoR7_HDxg\n",
      "mkdir saved/thumbnails/UCKtKKtjaaPKA1Oj8Ldnfsdg\n",
      "mkdir saved/thumbnails/UCqQ6BtItfK2FI3f4wubJmoA\n",
      "mkdir saved/thumbnails/UC0JR9ZTJIvB9VX8xz7LyujA\n",
      "mkdir saved/thumbnails/UCeEw2Utee___P8__KZYTzuUsw\n",
      "mkdir saved/thumbnails/UCNvDbbq0_pN4UrAC20fN2uw\n",
      "mkdir saved/thumbnails/UCR1_4Tla5MlZlDK8WM5vklA\n",
      "mkdir saved/thumbnails/UCCO_itOx__wopeBohj5oPkzg\n",
      "mkdir saved/thumbnails/UCOwqf_QhtnDDFmylLRg4hWg\n",
      "mkdir saved/thumbnails/UCh1K2JtxIZLnUaTPlxPPzjw\n",
      "mkdir saved/thumbnails/UCPzqjzrvmSA9dVydRdAX6Xg\n",
      "mkdir saved/thumbnails/UC9nM3v1ZWwALi0vsVuS_v5g\n",
      "HTTP Error 404: Not Found\n",
      "mkdir saved/thumbnails/UCdtFmWwPlKiCOEND_95fwiA\n",
      "mkdir saved/thumbnails/UCutJqz56653xV2wwSvut_hQ\n",
      "mkdir saved/thumbnails/UClX3YSREJp3ELuv2wFAYOzA\n",
      "mkdir saved/thumbnails/UC__C5UUZqky2qJmG4EzRnI0g\n",
      "mkdir saved/thumbnails/UCg9mwxF0uacG3Q4N91wo2TQ\n",
      "mkdir saved/thumbnails/UCftut9Z6S48igRNSQRDpCCg\n",
      "mkdir saved/thumbnails/UCPyNsNSTUtywkekbDdCA_8Q\n",
      "mkdir saved/thumbnails/UCIQzfXsmjUObTWvg93gySgw\n",
      "mkdir saved/thumbnails/UCsX8MJHEI5UukXoF3HLnTvg\n",
      "mkdir saved/thumbnails/UC3LAEwEhZ0Yn3l4__WatZo2Q\n",
      "mkdir saved/thumbnails/UCFKSFhVMtIu7akVuxPtXtQw\n",
      "mkdir saved/thumbnails/UC2RdeFmVA1PrDqmFqJMG7hA\n",
      "mkdir saved/thumbnails/UCD3Bl7pISGIQBDMGGP2qLQw\n",
      "mkdir saved/thumbnails/UCt3u1FCTR1Sc3Eumycrzvwg\n",
      "mkdir saved/thumbnails/UC0ppHLRB01LKsXoQNEI4qtQ\n",
      "mkdir saved/thumbnails/UC4bSJdI2RTNSld1_M_liO0w\n",
      "mkdir saved/thumbnails/UCzXjPL7zo0bxhOYDxLJ9YEg\n",
      "mkdir saved/thumbnails/UCrUfBW0jCq2HNYCpvcW8mVw\n",
      "mkdir saved/thumbnails/UCKezegV3t5njyVLoeLhYi0A\n",
      "mkdir saved/thumbnails/UCeaXbFvR4F3uaN9vhz_WscA\n",
      "mkdir saved/thumbnails/UCEZwmjAIkKR0ELgijrwRq7w\n",
      "mkdir saved/thumbnails/UCO06KZjWOe6b1tXrgzzakZA\n",
      "mkdir saved/thumbnails/UC66VyLEdgCot__4w8x__n0CGA\n",
      "mkdir saved/thumbnails/UCiotlpambU2VW__eM__B2MTcg\n",
      "mkdir saved/thumbnails/UC0cpUGlqr4YlEmRG7543dEg\n",
      "HTTP Error 404: Not Found\n",
      "HTTP Error 404: Not Found\n",
      "mkdir saved/thumbnails/UC9IJyg3eVynIJ__E6W2k1yHw\n",
      "mkdir saved/thumbnails/UCv7k2MRsY9sXIAWpCOvLCjg\n",
      "mkdir saved/thumbnails/UCXqoK3nPrsCnPIxyavw0jOw\n",
      "mkdir saved/thumbnails/UCP1PN9Um8z8Li__20Yauqa6A\n",
      "mkdir saved/thumbnails/UCE3JA4z__hyR3VRrsRSt3udA\n",
      "HTTP Error 404: Not Found\n",
      "mkdir saved/thumbnails/UCoD8jr8kjVoPxD8UVzTmTOA\n",
      "mkdir saved/thumbnails/UCEnkd5D__53MDGpgpiQRbUqw\n",
      "mkdir saved/thumbnails/UCg_Wchs_AGoHrlayD_rhO0Q\n",
      "mkdir saved/thumbnails/UCHwYZJURwko88jyWxrhRZQA\n",
      "mkdir saved/thumbnails/UCxNjRQKDk___bVWC0VQFIJzQ\n",
      "mkdir saved/thumbnails/UCyFN8ul17Ov5oDr_lsjZODg\n",
      "mkdir saved/thumbnails/UCmE4PWzOmGXz4eoYD_6jZ0g\n",
      "mkdir saved/thumbnails/UCh7bThzNArch6TgoHB1HVhA\n",
      "mkdir saved/thumbnails/UC5l9qmpr3ym8BpyKCHio5kQ\n",
      "HTTP Error 404: Not Found\n",
      "HTTP Error 404: Not Found\n",
      "HTTP Error 404: Not Found\n",
      "mkdir saved/thumbnails/UCgpmBtbVmsfwqhU_pU5CA3g\n",
      "mkdir saved/thumbnails/UCSrnV0SB1W2mYW4YMc9VTmg\n",
      "mkdir saved/thumbnails/UCSdiXqnTXy6hukTURUIZbIg\n",
      "HTTP Error 404: Not Found\n",
      "mkdir saved/thumbnails/UCZ5yaAP0B__tBKl63ABFmqVQ\n",
      "mkdir saved/thumbnails/UC__8H678xX1SNBOM10_ReY6Q\n",
      "mkdir saved/thumbnails/UCkS_L8KIQ93C4zMcMrWudkA\n",
      "mkdir saved/thumbnails/UCM3yhFc0__fBFuvqx1Vg2YNQ\n",
      "mkdir saved/thumbnails/UC0_nOHqfcBd8Jzx9YGXJ6AQ\n",
      "mkdir saved/thumbnails/UCiJvvLq45i4sC4__dTiV88SQ\n",
      "mkdir saved/thumbnails/UCXqocGp__RQ_sTw8EpPDg10A\n",
      "mkdir saved/thumbnails/UCmol_xpWkIbQU0ZCuinqpQA\n",
      "mkdir saved/thumbnails/UCfCY70zRsvnnKzQ39mBq0rw\n",
      "mkdir saved/thumbnails/UCr__QcqNToYablI__jU2VPVSw\n",
      "mkdir saved/thumbnails/UC__AsSnEuyVgO9TWvZE_ziA\n",
      "mkdir saved/thumbnails/UCgpq8b6bCzkSLquNQeSE6QQ\n",
      "mkdir saved/thumbnails/UCPJWRurNJglKzESrdQRxSMQ\n",
      "mkdir saved/thumbnails/UC2rbyOa3Jo7vGSibqKcRjqw\n",
      "mkdir saved/thumbnails/UCeuXaGY8GnnRniSxsM5PYFg\n",
      "mkdir saved/thumbnails/UCi4Odk8FP4SZY6l_y2oxKXg\n",
      "mkdir saved/thumbnails/UCoFQy9Q7tzxwMEbDw9t66PQ\n",
      "mkdir saved/thumbnails/UCL__a2oIp9rekDc3Z79uTUPg\n",
      "mkdir saved/thumbnails/UCmsA3A5_HKBwI9OktSttTFg\n",
      "mkdir saved/thumbnails/UCtVnAr55ALHAuI7Yyz4GZWg\n",
      "mkdir saved/thumbnails/UCNS93jTKjnzNG7pYUCN5PrQ\n",
      "mkdir saved/thumbnails/UC69xoWl5__Y3m__oRFTORIbKw\n",
      "mkdir saved/thumbnails/UCOZ7Kq5_VWBC__TtteAcsRBg\n",
      "mkdir saved/thumbnails/UC5cDspT0XR1E3GpwVyOnwAA\n",
      "mkdir saved/thumbnails/UCWCyPnPy6TYi_ONU3o_ENHw\n",
      "mkdir saved/thumbnails/UCM_Ll26nXOkscq0YSpBmgyg\n",
      "mkdir saved/thumbnails/UCPJOCEIyI3gxXbTqKSsViqg\n",
      "mkdir saved/thumbnails/UC4__TMrb7Mm4KnYx1VsUgcJA\n",
      "mkdir saved/thumbnails/UCLO1yCo0gDgpXhyM0fXfXXA\n",
      "mkdir saved/thumbnails/UCgeaaH__K9__SLzMljthC9cwA\n",
      "mkdir saved/thumbnails/UCGD6cybImXigcLw2VSwHMBg\n",
      "mkdir saved/thumbnails/UCbZFgAVRN3PDZV0O6Ma__c6Q\n",
      "mkdir saved/thumbnails/UCPy2tFbERkVopaf0Ym4uTSg\n",
      "mkdir saved/thumbnails/UCkGf_kXNiDG_nXs4__WJkY__Q\n",
      "mkdir saved/thumbnails/UCL9ibMKcDtK4qc6e9Go9mCg\n",
      "mkdir saved/thumbnails/UCtLo4nwb3ObCDZ4m8b8u7fA\n",
      "mkdir saved/thumbnails/UCaeD70dPUK5ylWRZIfHsT1w\n",
      "mkdir saved/thumbnails/UCxc0F7BSsl3d4V2aoietV9A\n",
      "mkdir saved/thumbnails/UCrOnS768WQGgNzvM0wOGa1w\n",
      "mkdir saved/thumbnails/UCNaGf1tJsooAo6W_lrI06zw\n",
      "mkdir saved/thumbnails/UCVCDKnu1N__FckqkRjiTeXag\n",
      "mkdir saved/thumbnails/UC5AV3B5lr9j7TF96AESgoVQ\n",
      "mkdir saved/thumbnails/UC7RQMyUPzbQerM6rKRGqhvA\n",
      "mkdir saved/thumbnails/UCy3Sj6KflkLCaaLtj2fSnow\n",
      "mkdir saved/thumbnails/UCwCcE__TAVIsYWnZ4oUjU6ew\n",
      "mkdir saved/thumbnails/UCskAt0JUUCrHqutdfLXSb__w\n",
      "mkdir saved/thumbnails/UCQubp91ICvNsh4gdzIKyKkA\n",
      "mkdir saved/thumbnails/UC17_aMbsbwtzpa4__SUlDEOw\n",
      "mkdir saved/thumbnails/UCjX7kJYLEAdsaCDnTsWK3Wg\n",
      "mkdir saved/thumbnails/UC7lG26U81JGl0EyMNOmRsjw\n",
      "mkdir saved/thumbnails/UCps4dAbzd30T____mvrCpltgw\n",
      "mkdir saved/thumbnails/UCD__ygDdEbVWgjIH6V1UQlbQ\n",
      "HTTP Error 404: Not Found\n",
      "mkdir saved/thumbnails/UCCBq7s8VOCyek275uvq5lYQ\n",
      "mkdir saved/thumbnails/UCV_S2S__Zs8LeuJxK__T3RQQg\n",
      "mkdir saved/thumbnails/UCO3r3FllELijijdytnR43NA\n",
      "mkdir saved/thumbnails/UCAsviiS5DE0pcuvxPRrrAzQ\n",
      "mkdir saved/thumbnails/UCUy__lBPiJYWXTvfYHiCb___A\n",
      "HTTP Error 404: Not Found\n",
      "HTTP Error 404: Not Found\n",
      "HTTP Error 404: Not Found\n",
      "HTTP Error 404: Not Found\n",
      "HTTP Error 404: Not Found\n",
      "HTTP Error 404: Not Found\n",
      "HTTP Error 404: Not Found\n",
      "HTTP Error 404: Not Found\n",
      "HTTP Error 404: Not Found\n",
      "HTTP Error 404: Not Found\n",
      "HTTP Error 404: Not Found\n",
      "HTTP Error 404: Not Found\n",
      "HTTP Error 404: Not Found\n",
      "HTTP Error 404: Not Found\n",
      "HTTP Error 404: Not Found\n",
      "HTTP Error 404: Not Found\n",
      "HTTP Error 404: Not Found\n",
      "HTTP Error 404: Not Found\n",
      "mkdir saved/thumbnails/UC99AIUi4psZ98Khq_qU5Hpw\n",
      "mkdir saved/thumbnails/UC3__I23qIQk__2rwi7cnntIJA\n",
      "mkdir saved/thumbnails/UC_XRq7JriAORvDe1lI1RAsA\n",
      "mkdir saved/thumbnails/UCj_z__Zeqk8LfwVxx0MUdL__Q\n",
      "mkdir saved/thumbnails/UCHAL5c5PrCSA4ExAlY_gLuQ\n",
      "mkdir saved/thumbnails/UCJES7pjHlSyxjEOdb1PNTrA\n",
      "mkdir saved/thumbnails/UCdb7Jw5rprurSCutjT9BW5A\n",
      "mkdir saved/thumbnails/UCLh9M5KxWSlIqh2EC8ja_ug\n",
      "mkdir saved/thumbnails/UCCPfI2vQnAc3ZxWpmwDyM1A\n",
      "mkdir saved/thumbnails/UCa7KELKe1u9mQ5jWMdIB__HQ\n",
      "mkdir saved/thumbnails/UCHV8lZJsXdW8lOFr2z8WPcg\n"
     ]
    }
   ],
   "source": [
    "download_dir = 'saved/thumbnails'\n",
    "sleep_time_sec = 0.1\n",
    "\n",
    "for i in thumb_list:\n",
    "    channel_dir = '%s/%s' % ( download_dir, i[1] )\n",
    "    if not os.path.exists( channel_dir ):\n",
    "        cmd = \"mkdir % s\" % channel_dir\n",
    "        os.system(cmd)\n",
    "        print( cmd )\n",
    "    filename, url = '%s.jpg' % i[0], i[2]\n",
    "    dst_path = os.path.join(channel_dir, filename)\n",
    "    time.sleep(sleep_time_sec)\n",
    "    download_image(url, dst_path)"
   ]
  },
  {
   "cell_type": "code",
   "execution_count": 6,
   "metadata": {},
   "outputs": [],
   "source": [
    "import cv2"
   ]
  },
  {
   "cell_type": "code",
   "execution_count": 11,
   "metadata": {},
   "outputs": [],
   "source": [
    "ids = df['id'].values"
   ]
  },
  {
   "cell_type": "code",
   "execution_count": 25,
   "metadata": {},
   "outputs": [
    {
     "data": {
      "image/jpeg": "[encoded data removed]",
      "text/plain": [
       "<IPython.core.display.Image object>"
      ]
     },
     "metadata": {},
     "output_type": "display_data"
    },
    {
     "data": {
      "image/jpeg": "[encoded data removed]",
      "text/plain": [
       "<IPython.core.display.Image object>"
      ]
     },
     "metadata": {},
     "output_type": "display_data"
    }
   ],
   "source": [
    "from IPython.display import display, Image\n",
    "def display_cv_image(image, format='.jpg'):\n",
    "    decoded_bytes = cv2.imencode(format, image)[1].tobytes()\n",
    "    display(Image(data=decoded_bytes))\n",
    "\n",
    "img = cv2.imread('saved/test/1Wwf4oLSMrI.jpg')\n",
    "img_r = im[12:78,:,:]\n",
    "display_cv_image(img, '.jpg')\n",
    "display_cv_image(img_r, '.jpg')"
   ]
  },
  {
   "cell_type": "code",
   "execution_count": 27,
   "metadata": {},
   "outputs": [],
   "source": [
    "download_dir = 'saved/test'\n",
    "resize_dir = 'saved/test_resize'\n",
    "for i in ids:\n",
    "    img = cv2.imread( '%s/%s.jpg' % ( download_dir, i ) )\n",
    "    img_r = img[12:78,:,:]\n",
    "    cv2.imwrite('%s/%s.jpg' % ( resize_dir, i ), img_r)"
   ]
  },
  {
   "cell_type": "code",
   "execution_count": null,
   "metadata": {},
   "outputs": [],
   "source": []
  }
 ],
 "metadata": {
  "kernelspec": {
   "display_name": "Python 3",
   "language": "python",
   "name": "python3"
  },
  "language_info": {
   "codemirror_mode": {
    "name": "ipython",
    "version": 3
   },
   "file_extension": ".py",
   "mimetype": "text/x-python",
   "name": "python",
   "nbconvert_exporter": "python",
   "pygments_lexer": "ipython3",
   "version": "3.6.4"
  }
 },
 "nbformat": 4,
 "nbformat_minor": 2
}
