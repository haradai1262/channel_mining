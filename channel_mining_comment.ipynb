{
 "cells": [
  {
   "cell_type": "markdown",
   "metadata": {},
   "source": [
    "# Youtube Api V3 usage for channel mining\n",
    "\n",
    "# Install \n",
    "### pip install --upgrade google-api-python-client\n",
    "### pip install --upgrade google-auth google-auth-oauthlib google-auth-httplib2\n",
    "### pip install --upgrade oauth2client"
   ]
  },
  {
   "cell_type": "code",
   "execution_count": 2,
   "metadata": {},
   "outputs": [],
   "source": [
    "import os, sys\n",
    "import pandas as pd\n",
    "import datetime\n",
    "from pprint import pprint\n",
    "\n",
    "from apiclient.discovery import build\n",
    "from apiclient.errors import HttpError\n",
    "from oauth2client.tools import argparser\n",
    "\n",
    "import devkey\n",
    "DEVELOPER_KEY = devkey.api1\n",
    "YOUTUBE_API_SERVICE_NAME = \"youtube\"\n",
    "YOUTUBE_API_VERSION = \"v3\""
   ]
  },
  {
   "cell_type": "code",
   "execution_count": 11,
   "metadata": {},
   "outputs": [],
   "source": [
    "YT = build(YOUTUBE_API_SERVICE_NAME, YOUTUBE_API_VERSION, developerKey=DEVELOPER_KEY)"
   ]
  },
  {
   "cell_type": "code",
   "execution_count": 3,
   "metadata": {},
   "outputs": [],
   "source": [
    "from quilt.data.haradai1262 import YouTuber"
   ]
  },
  {
   "cell_type": "code",
   "execution_count": 4,
   "metadata": {},
   "outputs": [],
   "source": [
    "df = YouTuber.channel_videos.UUUM_0()"
   ]
  },
  {
   "cell_type": "code",
   "execution_count": 9,
   "metadata": {},
   "outputs": [],
   "source": [
    "vid = df['id'].values[0]"
   ]
  },
  {
   "cell_type": "code",
   "execution_count": 53,
   "metadata": {},
   "outputs": [],
   "source": [
    "comment_threads = YT.commentThreads().list(\n",
    "    part=\"snippet,replies\",videoId=vid,maxResults=100,\n",
    "    order='relevance',textFormat='plainText' ).execute()"
   ]
  },
  {
   "cell_type": "code",
   "execution_count": 73,
   "metadata": {},
   "outputs": [
    {
     "data": {
      "text/plain": [
       "' 1000が最大?、HTTPエラーで止まる...\\ncomments_tmp = []\\nnextPageToken = \\'\\'\\nmaxResults=100\\nwhile 1:\\n    feed = YT.commentThreads().list(\\n        part=\"snippet,replies\",videoId=vid,maxResults=100,\\n        order=\\'relevance\\',textFormat=\\'plainText\\', pageToken=nextPageToken ).execute()\\n    if \\'nextPageToken\\' in feed: nextPageToken = feed[ \\'nextPageToken\\' ]\\n    else: break\\n    cmnts = [ com for com in feed.get(\\'items\\') ]\\n    comments_tmp.extend( cmnts )\\n'"
      ]
     },
     "execution_count": 73,
     "metadata": {},
     "output_type": "execute_result"
    }
   ],
   "source": [
    "''' 1000が最大?、HTTPエラーで止まる...\n",
    "comments_tmp = []\n",
    "nextPageToken = ''\n",
    "maxResults=100\n",
    "while 1:\n",
    "    feed = YT.commentThreads().list(\n",
    "        part=\"snippet,replies\",videoId=vid,maxResults=100,\n",
    "        order='relevance',textFormat='plainText', pageToken=nextPageToken ).execute()\n",
    "    if 'nextPageToken' in feed: nextPageToken = feed[ 'nextPageToken' ]\n",
    "    else: break\n",
    "    cmnts = [ com for com in feed.get('items') ]\n",
    "    comments_tmp.extend( cmnts )\n",
    "'''"
   ]
  },
  {
   "cell_type": "code",
   "execution_count": 75,
   "metadata": {},
   "outputs": [
    {
     "name": "stdout",
     "output_type": "stream",
     "text": [
      "0 恭ちゃんときりたんぽちゃん初コラボ！\n",
      "寿司ヤバすぎたぜ。。。\n",
      "1 恭ちゃん水泳動画出して欲しいwwwww\n",
      "2 酢飯見たとき、牛丼のつゆだくご飯かと思った。\n",
      "3 ヒカキンさん美味しいもの沢山食べてるはずなのに高級店でも知ったかしないし普通に値段に驚いたりしてやっぱり好き！ヒカキンさんと一緒にお寿司食べたい！\n",
      "4 恭ちゃんの胃袋には無限大の可能性のある。\n",
      "5 日本人が死ぬ前に行きたいところ決定！w\n",
      "6 きりたんぽちゃん緊張してますね(^O^)\n",
      "7 格差を見せつけるようつべの絶対王者\n",
      "8 食レポは恭ちゃんいるとかなり盛り上がりますね！\n",
      "痩せた人が食べてても美味しそうじゃない\n",
      "9 0:56\n",
      "声がヌけるねぇ、、、\n",
      "\n",
      "\n",
      "\n",
      "\n",
      "\n",
      "\n",
      "ふぅ…\n",
      "10 14:50 普段のヒカキンさんとのギャップがあってキュンとしました笑 きりたんちゃんも女の子なのにガツガツ食べていて見ていて気持ちいい！\n",
      "11 HIKAKINが恭ちゃん体型になる日は近い\n",
      "12 12:17ワロタ\n",
      "13 女がよくやる箸の下に手そえるのってほんまは良くないらしいね\n",
      "14 きりたんぽ苦手だわ…\n",
      "あざとい…\n",
      "15 14:50\n",
      "16 恭ちゃんの声うらやましい！\n",
      "17 カウンター席の後ろにテレビが置いてあって、壁はレンガのクロス\n",
      "どこが高級すし店なんだよアホか！\n",
      "18 なんだよ奥にいる店員の態度w\n",
      "19 小中大\n",
      "20 14分48秒のヒカキン一瞬怖かった\n",
      "ヒカキン（じゃあやめとけ）\n",
      "21 美味しそう(*´﹃｀*)\n",
      "22 横で立ってる寿司屋の店員やる気なさすぎだろwwwこんな店絶対行かんわw\n",
      "23 ほんま可愛いよな\n",
      "\n",
      "\n",
      "\n",
      "\n",
      "\n",
      "\n",
      "\n",
      "恭ちゃん\n",
      "24 醤油無いの？？\n",
      "25 ヒカキンさんと恭ちゃんとのやり取りが癒される＾＾　にしても、お寿司のツヤから美味しさが動画でも伝わる…笑\n",
      "26 きりたんぽ、恭ちゃん、HIKAKINのコラボは凄いな🙌\n",
      "27 もう1人の店員の態度あまり好きじゃない。\n",
      "28 恭ちゃん服を寿司で合わせてくれるっていう優しさww\n",
      "29 13:38\n",
      "アワビを口に運ぶHIKAKINを見つめるきりたんぽ\n",
      "30 究極の飯テロ-w-w\n",
      "31 みんな今テスト期間？\n",
      "期末だる\\(´°v°)/んぴｯ\n",
      "32 でもこの動画で元取れたね。\n",
      "33 じゃあやめとけ！ってとこなんか引っかかった笑\n",
      "34 やめとけって素がでたね\n",
      "売れて性格変わってそうだな\n",
      "35 寿司ならすしらーめんりくだろ、\n",
      "36 恭ちゃんのせいでヒカキンが小さく見えるw\n",
      "37 寿司食べたくなるなー\n",
      "なんとなくヒカキンの人間性の良さが伝わる気がする。\n",
      "38 もっときりたんぽちゃんの話聞きたかった笑笑\n",
      "39 0:44\n",
      "40 きりたんぽちゃんめっちゃ可愛い！これで知名度上がるといいね！\n",
      "41 この3人良いね\n",
      "42 (なんでこいつらにこんなに人気があるのかさっぱりわからん.....)\n",
      "43 7:16.  きりたんぽさん、日本食は食べる時、手を受け皿にして食べたらダメですよ。それと、口を抑えて食べるのも常識違反です。それが日本食を食べる時のマナーです。\n",
      "44 恭ちゃんまた一回りでかくなった？笑\n",
      "45 まさか恭ちゃんがいるとわ\n",
      "46 14:51\n",
      "47 里帰りしてましたは草\n",
      "48 6:32の表情あかんやろ\n",
      "YouTube？は？みたいなかんじか\n",
      "49 恭ちゃん寿司持ったら寿司が豆じゃん！笑\n",
      "50 入ったときの、雰囲気で、高いかがわかりますよねww\n",
      "51 恭さん好きな人0:47\n",
      "52 恭一郎生理的に無理。\n",
      "53 なぜきりたんぽを選んだw\n",
      "54 じゃ、やめとけ\n",
      "\n",
      "\n",
      "\n",
      "\n",
      "\n",
      "不自然...\n",
      "55 回らないお寿司屋さん行って見たいわ笑笑\n",
      "56 じゃあ、やめとけ は優しさしか感じないんだが笑。これで怖いと感じるのはかなり平和ボケし過ぎた耳👂だな。\n",
      "57 しかもハゲとるし　きりたんちゃんだけでよかったわ\n",
      "58 魚を切るところでおいしそうなのに、みんなが食ってる姿を見るともっとおいしく見える。みんなおいしそうに食べるなぁ！\n",
      "59 一環でポテチ18個、、、分\n",
      "60 前代未聞の贅沢！(´º﹃º♡)\n",
      "きりたんぽさんがお皿で隠れそうなくらい小さいのに、結構食べるｗｗ\n",
      "恭ちゃんは余裕で美味しそうｗ\n",
      "61 きりたんぽさん、かわいすぎ！\n",
      "62 緊張してるきりたんが余計かわいい🍥\n",
      "63 0:44\n",
      "64 こんなお寿司食べることは一生に一度もないだろうなｗ\n",
      "65 1人4万はエグい\n",
      "回転寿司の相撲10人組みたいな値段やな\n",
      "66 恭ちゃんかわいい！\n",
      "67 総理大臣何もしてねぇのにこんないいもん食ってんじゃねぇよ\n",
      "68 ん？恭一郎丸くなったなぁ\n",
      "二つの意味で\n",
      "69 寿司食べたくなってきた\n",
      "70 きりたんぽさんかわいい\n",
      "71 恭ちゃんなら深海までいける🤣ww\n",
      "72 きりたんぽちゃん可愛い٩(.› ‹. )۶♡\n",
      "73 この３人めっちゃほっこりするw\n",
      "74 617万もう少し\n",
      "75 食べ放題って言ってるのに、恭ちゃんかわいそうww\n",
      "76 りくくん誘わなかったのか(‘ω’)\n",
      "77 恭ちゃんや！嬉しすぎw\n",
      "78 恭ちゃんとのコラボって誰得⁉️\n",
      "\n",
      "\n",
      "\n",
      "\n",
      "\n",
      "\n",
      "私得‼️\n",
      "圧倒的私得‼️‼️\n",
      "79 ヒカキンと恭ちゃん仲いいね笑\n",
      "(ﾉ)'ω`(ヾ)\n",
      "80 めっちゃくちゃ食うやん www\n",
      "凄すぎる ww\n",
      "81 ぶぅ～ん　ぶぅ～ん\n",
      "82 恭ちゃんのひねくれ案外好きだわww\n",
      "83 ヘンキンメ\n",
      "84 金持ちだけが食べれる寿司\n",
      "85 恭ちゃん大好き。キャラが好き\n",
      "86 恭ちゃんのTシャツかわいい\n",
      "87 恭ちゃんの食べる前とか食べた時のリアクションめっちゃいい！\n",
      "88 きりたんぽやっぱ可愛いな~。\n",
      "でも恭ちゃんには敵わん、笑\n",
      "89 回らないお寿司、行ってみたいな\n",
      "90 きりたんぽちゃんが喋るたびにハートつけすぎ\n",
      "91 恭ちゃん好きだわwwwww\n",
      "92 とうとうきりたんぽちゃんも\n",
      "HIKAKINとコラボかー😧\n",
      "次はだれとコラボだ？🤩\n",
      "93 きりたんぽ可愛い\n",
      "94 うん、これは珍しいね~ｗ\n",
      "95 嫌みだ\n",
      "恭ちゃんに...\n",
      "96 可愛いなぁー\n",
      "\n",
      "\n",
      "\n",
      "\n",
      "\n",
      "恭ちゃん\n",
      "97 ガスボンベ背負って水に潜るとか自殺かよwww\n",
      "98 きりたんぽちょーかわいい\n",
      "99 高級寿司店にテレビあるの何故か違和感のあるw\n"
     ]
    }
   ],
   "source": [
    "for i, com in enumerate( comment_threads['items'] ):\n",
    "    print( i, com['snippet']['topLevelComment']['snippet']['textOriginal'] )\n",
    "#    if not 'replies' in com: continue\n",
    "#    for j, rep in enumerate( com['replies']['comments'] ):\n",
    "#        print( '   ', j, rep['snippet']['textOriginal'] )\n",
    "# pprint( comment_threads['items'][0]['snippet'] )\n",
    "# pprint( comment_threads['items'][0]['replies']['comments'][1] )"
   ]
  }
 ],
 "metadata": {
  "kernelspec": {
   "display_name": "Python 3",
   "language": "python",
   "name": "python3"
  },
  "language_info": {
   "codemirror_mode": {
    "name": "ipython",
    "version": 3
   },
   "file_extension": ".py",
   "mimetype": "text/x-python",
   "name": "python",
   "nbconvert_exporter": "python",
   "pygments_lexer": "ipython3",
   "version": "3.6.4"
  }
 },
 "nbformat": 4,
 "nbformat_minor": 2
}
